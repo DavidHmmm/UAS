{
 "cells": [
  {
   "cell_type": "code",
   "execution_count": 1,
   "id": "cae4d476",
   "metadata": {},
   "outputs": [
    {
     "name": "stdout",
     "output_type": "stream",
     "text": [
      "Masukkan panjang : 4\n",
      "Masukkan panjang : 5\n",
      "Keliling persegi panjang adalah  18\n",
      "Luas persegi panjang adalah  20\n"
     ]
    }
   ],
   "source": [
    "def persegi_panjang(panjang,lebar):\n",
    "    keliling = (2*panjang)+(2*lebar)\n",
    "    luas = panjang * lebar\n",
    "    print(\"Keliling persegi panjang adalah \",keliling)\n",
    "    print(\"Luas persegi panjang adalah \",luas)\n",
    "    \n",
    "def input_panjang():\n",
    "    panjang = int(input(\"Masukkan panjang : \"))\n",
    "    return panjang\n",
    "def input_lebar():\n",
    "    lebar = int(input(\"Masukkan panjang : \"))\n",
    "    return lebar\n",
    "\n",
    "persegi_panjang(input_panjang(),input_lebar())"
   ]
  },
  {
   "cell_type": "code",
   "execution_count": 2,
   "id": "37987aed",
   "metadata": {},
   "outputs": [
    {
     "name": "stdout",
     "output_type": "stream",
     "text": [
      "Masukkan Nama Anda : David\n",
      "Masukkan Alamat Anda : Di sini\n",
      "Masukkan NIM Anda : 007\n",
      "\n",
      "Nama :  David\n",
      "Alamat :  Di sini\n",
      "NIM :  007\n"
     ]
    }
   ],
   "source": [
    "class data :\n",
    "    def __init__(self,nama,alamat,nim):\n",
    "        self.nama = nama\n",
    "        self.alamat = alamat\n",
    "        self.nim = nim\n",
    "    def tampilkan(self):\n",
    "        print(\"Nama : \",self.nama)\n",
    "        print(\"Alamat : \",self.alamat)\n",
    "        print(\"NIM : \",self.nim)\n",
    "    def nm ():\n",
    "        nama = input(\"Masukkan Nama Anda : \")\n",
    "        return nama\n",
    "    def almt ():\n",
    "        alamat = input(\"Masukkan Alamat Anda : \")\n",
    "        return alamat\n",
    "    def nimz ():\n",
    "        nim = input(\"Masukkan NIM Anda : \")\n",
    "        return nim\n",
    "\n",
    "data_1 = data(data.nm(),data.almt(),data.nimz())\n",
    "print(\"\")\n",
    "data.tampilkan(data_1)"
   ]
  },
  {
   "cell_type": "code",
   "execution_count": 4,
   "id": "2f777c75",
   "metadata": {},
   "outputs": [
    {
     "name": "stdout",
     "output_type": "stream",
     "text": [
      "Masukkan angka : 4\n",
      "Masukkan angka : 5\n",
      "Masukkan operator (+ , - , *, /) : +\n",
      "Hasil perhitungan 9\n",
      "Lanjut menghitung Y/N : y\n",
      "\n",
      "Masukkan angka : 2\n",
      "Masukkan angka : 3\n",
      "Masukkan operator (+ , - , *, /) : /\n",
      "Hasil perhitungan 0.6666666666666666\n",
      "Lanjut menghitung Y/N : y\n",
      "\n",
      "Masukkan angka : 8\n",
      "Masukkan angka : 4\n",
      "Masukkan operator (+ , - , *, /) : *\n",
      "Hasil perhitungan 32\n",
      "Lanjut menghitung Y/N : n\n"
     ]
    }
   ],
   "source": [
    "class kalkulator :\n",
    "    def __init__(self, a , b):\n",
    "        self.angka1 = a\n",
    "        self.angka2 = b\n",
    "\n",
    "    def tambah(self):\n",
    "        return self.angka1 + self.angka2\n",
    "\n",
    "    def kurang(self):\n",
    "        return self.angka1 - self.angka2\n",
    "\n",
    "    def kali(self):\n",
    "        return self.angka1 * self.angka2\n",
    "\n",
    "    def bagi(self):\n",
    "        return self.angka1 / self.angka2\n",
    "    \n",
    "    def operator(self,pilihan):\n",
    "        if pilihan == \"+\":\n",
    "            return self.tambah()\n",
    "        elif pilihan == \"-\":\n",
    "            return self.kurang()\n",
    "        elif pilihan == \"*\":\n",
    "            return self.kali()\n",
    "        elif pilihan == \"/\":\n",
    "            return self.bagi()\n",
    "        else:\n",
    "            print (\"ERROR\")\n",
    "\n",
    "def angka():\n",
    "    angka = int(input(\"Masukkan angka : \"))\n",
    "    return angka\n",
    "\n",
    "while True :  \n",
    "    hitungan_1 = kalkulator (angka(),angka())\n",
    "    hasil = kalkulator.operator(hitungan_1,input(\"Masukkan operator (+ , - , *, /) : \"))\n",
    "    print (\"Hasil perhitungan\", hasil)\n",
    "    jawaban = input(\"Lanjut menghitung Y/N : \" )\n",
    "    if jawaban.upper() == \"N\" :\n",
    "        break\n",
    "    else:\n",
    "        print(\"\")"
   ]
  },
  {
   "cell_type": "code",
   "execution_count": null,
   "id": "1d5ddb6d",
   "metadata": {},
   "outputs": [],
   "source": []
  }
 ],
 "metadata": {
  "kernelspec": {
   "display_name": "Python 3",
   "language": "python",
   "name": "python3"
  },
  "language_info": {
   "codemirror_mode": {
    "name": "ipython",
    "version": 3
   },
   "file_extension": ".py",
   "mimetype": "text/x-python",
   "name": "python",
   "nbconvert_exporter": "python",
   "pygments_lexer": "ipython3",
   "version": "3.8.8"
  }
 },
 "nbformat": 4,
 "nbformat_minor": 5
}
